{
 "cells": [
  {
   "cell_type": "code",
   "execution_count": 1,
   "id": "ae4c4dcd",
   "metadata": {},
   "outputs": [],
   "source": [
    "# Import important libraries\n",
    "\n",
    "from bs4 import BeautifulSoup\n",
    "import pandas as pd"
   ]
  },
  {
   "cell_type": "code",
   "execution_count": null,
   "id": "6588fe7a",
   "metadata": {},
   "outputs": [],
   "source": [
    "url = f\"https://www.simplyhired.com/search?q=data+analyst&sb=dd&pn={x}\"\n",
    "x = 1\n",
    "\n",
    "\n",
    "response = requests.get(url).content\n",
    "response.\n"
   ]
  }
 ],
 "metadata": {
  "kernelspec": {
   "display_name": "Python 3 (ipykernel)",
   "language": "python",
   "name": "python3"
  },
  "language_info": {
   "codemirror_mode": {
    "name": "ipython",
    "version": 3
   },
   "file_extension": ".py",
   "mimetype": "text/x-python",
   "name": "python",
   "nbconvert_exporter": "python",
   "pygments_lexer": "ipython3",
   "version": "3.9.12"
  }
 },
 "nbformat": 4,
 "nbformat_minor": 5
}
